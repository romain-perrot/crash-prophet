{
 "cells": [
  {
   "cell_type": "code",
   "execution_count": 5,
   "metadata": {},
   "outputs": [
    {
     "ename": "ModuleNotFoundError",
     "evalue": "No module named 'dataset_traitement'",
     "output_type": "error",
     "traceback": [
      "\u001b[1;31m---------------------------------------------------------------------------\u001b[0m",
      "\u001b[1;31mModuleNotFoundError\u001b[0m                       Traceback (most recent call last)",
      "\u001b[1;32mc:\\Users\\baudo\\OneDrive - ecam.fr\\Documents\\Documents\\Edinburgh\\Heriot-Watt\\MSc Robotics\\Data Mining & Machine Learning\\Coursework\\ML\\group-coursework-pink-twins\\notebooks\\affinity_clustering.ipynb Cell 1\u001b[0m line \u001b[0;36m5\n\u001b[0;32m      <a href='vscode-notebook-cell:/c%3A/Users/baudo/OneDrive%20-%20ecam.fr/Documents/Documents/Edinburgh/Heriot-Watt/MSc%20Robotics/Data%20Mining%20%26%20Machine%20Learning/Coursework/ML/group-coursework-pink-twins/notebooks/affinity_clustering.ipynb#W0sZmlsZQ%3D%3D?line=2'>3</a>\u001b[0m \u001b[39mimport\u001b[39;00m \u001b[39mmatplotlib\u001b[39;00m\u001b[39m.\u001b[39;00m\u001b[39mpyplot\u001b[39;00m \u001b[39mas\u001b[39;00m \u001b[39mplt\u001b[39;00m\n\u001b[0;32m      <a href='vscode-notebook-cell:/c%3A/Users/baudo/OneDrive%20-%20ecam.fr/Documents/Documents/Edinburgh/Heriot-Watt/MSc%20Robotics/Data%20Mining%20%26%20Machine%20Learning/Coursework/ML/group-coursework-pink-twins/notebooks/affinity_clustering.ipynb#W0sZmlsZQ%3D%3D?line=3'>4</a>\u001b[0m \u001b[39mimport\u001b[39;00m \u001b[39mpandas\u001b[39;00m \u001b[39mas\u001b[39;00m \u001b[39mpd\u001b[39;00m\n\u001b[1;32m----> <a href='vscode-notebook-cell:/c%3A/Users/baudo/OneDrive%20-%20ecam.fr/Documents/Documents/Edinburgh/Heriot-Watt/MSc%20Robotics/Data%20Mining%20%26%20Machine%20Learning/Coursework/ML/group-coursework-pink-twins/notebooks/affinity_clustering.ipynb#W0sZmlsZQ%3D%3D?line=4'>5</a>\u001b[0m \u001b[39mfrom\u001b[39;00m \u001b[39mdataset_traitement\u001b[39;00m\u001b[39m.\u001b[39;00m\u001b[39mipynb\u001b[39;00m \u001b[39mimport\u001b[39;00m df\n\u001b[0;32m      <a href='vscode-notebook-cell:/c%3A/Users/baudo/OneDrive%20-%20ecam.fr/Documents/Documents/Edinburgh/Heriot-Watt/MSc%20Robotics/Data%20Mining%20%26%20Machine%20Learning/Coursework/ML/group-coursework-pink-twins/notebooks/affinity_clustering.ipynb#W0sZmlsZQ%3D%3D?line=6'>7</a>\u001b[0m \u001b[39mdef\u001b[39;00m \u001b[39maffinity_clustering\u001b[39m(df, severities_df):\n\u001b[0;32m      <a href='vscode-notebook-cell:/c%3A/Users/baudo/OneDrive%20-%20ecam.fr/Documents/Documents/Edinburgh/Heriot-Watt/MSc%20Robotics/Data%20Mining%20%26%20Machine%20Learning/Coursework/ML/group-coursework-pink-twins/notebooks/affinity_clustering.ipynb#W0sZmlsZQ%3D%3D?line=7'>8</a>\u001b[0m \n\u001b[0;32m      <a href='vscode-notebook-cell:/c%3A/Users/baudo/OneDrive%20-%20ecam.fr/Documents/Documents/Edinburgh/Heriot-Watt/MSc%20Robotics/Data%20Mining%20%26%20Machine%20Learning/Coursework/ML/group-coursework-pink-twins/notebooks/affinity_clustering.ipynb#W0sZmlsZQ%3D%3D?line=8'>9</a>\u001b[0m     \u001b[39m# Standardize your features\u001b[39;00m\n\u001b[0;32m     <a href='vscode-notebook-cell:/c%3A/Users/baudo/OneDrive%20-%20ecam.fr/Documents/Documents/Edinburgh/Heriot-Watt/MSc%20Robotics/Data%20Mining%20%26%20Machine%20Learning/Coursework/ML/group-coursework-pink-twins/notebooks/affinity_clustering.ipynb#W0sZmlsZQ%3D%3D?line=9'>10</a>\u001b[0m     X_scaled \u001b[39m=\u001b[39m preprocessing\u001b[39m.\u001b[39mscale(df)  \u001b[39m# Standardize your features\u001b[39;00m\n",
      "\u001b[1;31mModuleNotFoundError\u001b[0m: No module named 'dataset_traitement'"
     ]
    }
   ],
   "source": [
    "from sklearn.cluster import AffinityPropagation\n",
    "from sklearn import preprocessing\n",
    "import matplotlib.pyplot as plt\n",
    "import pandas as pd\n",
    "\n",
    "def affinity_clustering(df, severities_df):\n",
    "\n",
    "    # Standardize your features\n",
    "    X_scaled = preprocessing.scale(df)  # Standardize your features\n",
    "    new_df = df.drop(['Accident_Severity'], axis='columns')\n",
    "\n",
    "    # Apply Affinity Propagation\n",
    "    af = AffinityPropagation().fit(X_scaled)\n",
    "    cluster_centers_indices = af.cluster_centers_indices_\n",
    "    labels = af.labels_\n",
    "\n",
    "    # Map clusters to severities\n",
    "    cluster_severities = severities_df.iloc[cluster_centers_indices]\n",
    "\n",
    "    # Print the cluster labels and corresponding severities\n",
    "    #for cluster_label, severity in zip(cluster_centers_indices, cluster_severities):\n",
    "    #    print(f\"Cluster {cluster_label} corresponds to Severity {severity}\")\n",
    "\n",
    "    # Assuming 'X' is your feature matrix, and 'severities' is your target variable\n",
    "    # (as used in the previous example)\n",
    "\n",
    "    # Scatter plot of the first two features\n",
    "    plt.scatter(X_scaled[:, 0], X_scaled[:, 1], c=labels, cmap='viridis', s=50, alpha=0.5)\n",
    "\n",
    "    # Highlight cluster centers\n",
    "    plt.scatter(X_scaled[cluster_centers_indices, 0], X_scaled[cluster_centers_indices, 1],\n",
    "                c='red', marker='x', s=200, label='Cluster Centers')\n",
    "\n",
    "    # Add labels and legend\n",
    "    plt.title('Affinity Propagation Clustering with Severities')\n",
    "    plt.xlabel('Feature 1 (Standardized)')\n",
    "    plt.ylabel('Feature 2 (Standardized)')\n",
    "    plt.legend()\n",
    "\n",
    "    # Show the plot\n",
    "    plt.show()\n",
    "\n",
    "df = df.truncate(after=100)\n",
    "\n",
    "severities_df = df['Accident_Severity']\n",
    "\n",
    "affinity_clustering(df, severities_df)\n"
   ]
  }
 ],
 "metadata": {
  "kernelspec": {
   "display_name": "Python 3",
   "language": "python",
   "name": "python3"
  },
  "language_info": {
   "codemirror_mode": {
    "name": "ipython",
    "version": 3
   },
   "file_extension": ".py",
   "mimetype": "text/x-python",
   "name": "python",
   "nbconvert_exporter": "python",
   "pygments_lexer": "ipython3",
   "version": "3.10.11"
  }
 },
 "nbformat": 4,
 "nbformat_minor": 2
}
